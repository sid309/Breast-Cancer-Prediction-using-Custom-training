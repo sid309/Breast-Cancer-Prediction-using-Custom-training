{
  "nbformat": 4,
  "nbformat_minor": 0,
  "metadata": {
    "colab": {
      "name": "Breast Cancer Prediction.ipynb",
      "provenance": []
    },
    "kernelspec": {
      "name": "python3",
      "display_name": "Python 3"
    },
    "language_info": {
      "name": "python"
    }
  },
  "cells": [
    {
      "cell_type": "code",
      "metadata": {
        "id": "cHMwwqdG_1wb"
      },
      "source": [
        "import tensorflow as tf\n",
        "from tensorflow.keras.models import Model\n",
        "from tensorflow.keras.layers import Dense,Input\n",
        "import numpy as np\n",
        "import matplotlib.pyplot as plt\n",
        "import matplotlib.ticker as mticker\n",
        "import pandas as pd\n",
        "from sklearn.model_selection import train_test_split\n",
        "from sklearn.metrics import confusion_matrix\n",
        "import itertools\n",
        "from tqdm import tqdm\n",
        "import tensorflow_datasets as tfds"
      ],
      "execution_count": 1,
      "outputs": []
    },
    {
      "cell_type": "code",
      "metadata": {
        "colab": {
          "base_uri": "https://localhost:8080/",
          "height": 204
        },
        "id": "bvEtTN8tAl86",
        "outputId": "8f5df347-3cba-4d76-d257-ae545604752f"
      },
      "source": [
        "URL = \"https://archive.ics.uci.edu/ml/machine-learning-databases/breast-cancer-wisconsin/breast-cancer-wisconsin.data\"\n",
        "data_file=tf.keras.utils.get_file('Breast_Cancer.csv',URL)\n",
        "col_names = [\"id\", \"clump_thickness\", \"un_cell_size\", \"un_cell_shape\", \"marginal_adheshion\", \"single_eph_cell_size\", \"bare_nuclei\", \"bland_chromatin\", \"normal_nucleoli\", \"mitoses\", \"class\"]\n",
        "df=pd.read_csv(data_file,names=col_names,header=None)\n",
        "df.head()"
      ],
      "execution_count": 2,
      "outputs": [
        {
          "output_type": "execute_result",
          "data": {
            "text/html": [
              "<div>\n",
              "<style scoped>\n",
              "    .dataframe tbody tr th:only-of-type {\n",
              "        vertical-align: middle;\n",
              "    }\n",
              "\n",
              "    .dataframe tbody tr th {\n",
              "        vertical-align: top;\n",
              "    }\n",
              "\n",
              "    .dataframe thead th {\n",
              "        text-align: right;\n",
              "    }\n",
              "</style>\n",
              "<table border=\"1\" class=\"dataframe\">\n",
              "  <thead>\n",
              "    <tr style=\"text-align: right;\">\n",
              "      <th></th>\n",
              "      <th>id</th>\n",
              "      <th>clump_thickness</th>\n",
              "      <th>un_cell_size</th>\n",
              "      <th>un_cell_shape</th>\n",
              "      <th>marginal_adheshion</th>\n",
              "      <th>single_eph_cell_size</th>\n",
              "      <th>bare_nuclei</th>\n",
              "      <th>bland_chromatin</th>\n",
              "      <th>normal_nucleoli</th>\n",
              "      <th>mitoses</th>\n",
              "      <th>class</th>\n",
              "    </tr>\n",
              "  </thead>\n",
              "  <tbody>\n",
              "    <tr>\n",
              "      <th>0</th>\n",
              "      <td>1000025</td>\n",
              "      <td>5</td>\n",
              "      <td>1</td>\n",
              "      <td>1</td>\n",
              "      <td>1</td>\n",
              "      <td>2</td>\n",
              "      <td>1</td>\n",
              "      <td>3</td>\n",
              "      <td>1</td>\n",
              "      <td>1</td>\n",
              "      <td>2</td>\n",
              "    </tr>\n",
              "    <tr>\n",
              "      <th>1</th>\n",
              "      <td>1002945</td>\n",
              "      <td>5</td>\n",
              "      <td>4</td>\n",
              "      <td>4</td>\n",
              "      <td>5</td>\n",
              "      <td>7</td>\n",
              "      <td>10</td>\n",
              "      <td>3</td>\n",
              "      <td>2</td>\n",
              "      <td>1</td>\n",
              "      <td>2</td>\n",
              "    </tr>\n",
              "    <tr>\n",
              "      <th>2</th>\n",
              "      <td>1015425</td>\n",
              "      <td>3</td>\n",
              "      <td>1</td>\n",
              "      <td>1</td>\n",
              "      <td>1</td>\n",
              "      <td>2</td>\n",
              "      <td>2</td>\n",
              "      <td>3</td>\n",
              "      <td>1</td>\n",
              "      <td>1</td>\n",
              "      <td>2</td>\n",
              "    </tr>\n",
              "    <tr>\n",
              "      <th>3</th>\n",
              "      <td>1016277</td>\n",
              "      <td>6</td>\n",
              "      <td>8</td>\n",
              "      <td>8</td>\n",
              "      <td>1</td>\n",
              "      <td>3</td>\n",
              "      <td>4</td>\n",
              "      <td>3</td>\n",
              "      <td>7</td>\n",
              "      <td>1</td>\n",
              "      <td>2</td>\n",
              "    </tr>\n",
              "    <tr>\n",
              "      <th>4</th>\n",
              "      <td>1017023</td>\n",
              "      <td>4</td>\n",
              "      <td>1</td>\n",
              "      <td>1</td>\n",
              "      <td>3</td>\n",
              "      <td>2</td>\n",
              "      <td>1</td>\n",
              "      <td>3</td>\n",
              "      <td>1</td>\n",
              "      <td>1</td>\n",
              "      <td>2</td>\n",
              "    </tr>\n",
              "  </tbody>\n",
              "</table>\n",
              "</div>"
            ],
            "text/plain": [
              "        id  clump_thickness  un_cell_size  ...  normal_nucleoli  mitoses  class\n",
              "0  1000025                5             1  ...                1        1      2\n",
              "1  1002945                5             4  ...                2        1      2\n",
              "2  1015425                3             1  ...                1        1      2\n",
              "3  1016277                6             8  ...                7        1      2\n",
              "4  1017023                4             1  ...                1        1      2\n",
              "\n",
              "[5 rows x 11 columns]"
            ]
          },
          "metadata": {},
          "execution_count": 2
        }
      ]
    },
    {
      "cell_type": "code",
      "metadata": {
        "colab": {
          "base_uri": "https://localhost:8080/"
        },
        "id": "WkrUaLXPBAfa",
        "outputId": "a276e6a4-7cc4-46c7-ac48-d78afbc85e70"
      },
      "source": [
        "df.pop('id')"
      ],
      "execution_count": 3,
      "outputs": [
        {
          "output_type": "execute_result",
          "data": {
            "text/plain": [
              "0      1000025\n",
              "1      1002945\n",
              "2      1015425\n",
              "3      1016277\n",
              "4      1017023\n",
              "        ...   \n",
              "694     776715\n",
              "695     841769\n",
              "696     888820\n",
              "697     897471\n",
              "698     897471\n",
              "Name: id, Length: 699, dtype: int64"
            ]
          },
          "metadata": {},
          "execution_count": 3
        }
      ]
    },
    {
      "cell_type": "code",
      "metadata": {
        "colab": {
          "base_uri": "https://localhost:8080/"
        },
        "id": "dlJ3aZm3BQ33",
        "outputId": "d5f14c20-4798-4b4f-b69a-401fad73ed98"
      },
      "source": [
        "df['bare_nuclei'].unique()"
      ],
      "execution_count": 4,
      "outputs": [
        {
          "output_type": "execute_result",
          "data": {
            "text/plain": [
              "array(['1', '10', '2', '4', '3', '9', '7', '?', '5', '8', '6'],\n",
              "      dtype=object)"
            ]
          },
          "metadata": {},
          "execution_count": 4
        }
      ]
    },
    {
      "cell_type": "code",
      "metadata": {
        "colab": {
          "base_uri": "https://localhost:8080/"
        },
        "id": "5IA1SYE4BdrV",
        "outputId": "23141306-b66a-4d73-9774-f1c7e13eb4c1"
      },
      "source": [
        "df=df[df['bare_nuclei']!='?']\n",
        "df['bare_nuclei'].unique()"
      ],
      "execution_count": 5,
      "outputs": [
        {
          "output_type": "execute_result",
          "data": {
            "text/plain": [
              "array(['1', '10', '2', '4', '3', '9', '7', '5', '8', '6'], dtype=object)"
            ]
          },
          "metadata": {},
          "execution_count": 5
        }
      ]
    },
    {
      "cell_type": "code",
      "metadata": {
        "id": "Xd12307VBrfA"
      },
      "source": [
        "df.bare_nuclei=pd.to_numeric(df.bare_nuclei)"
      ],
      "execution_count": 6,
      "outputs": []
    },
    {
      "cell_type": "code",
      "metadata": {
        "colab": {
          "base_uri": "https://localhost:8080/",
          "height": 283
        },
        "id": "yP2VcsKOB3Ep",
        "outputId": "9d28c895-821a-4a04-f450-f343e8b8f5b9"
      },
      "source": [
        "df['class'].hist(bins=20)"
      ],
      "execution_count": 7,
      "outputs": [
        {
          "output_type": "execute_result",
          "data": {
            "text/plain": [
              "<matplotlib.axes._subplots.AxesSubplot at 0x7f35b6cdffd0>"
            ]
          },
          "metadata": {},
          "execution_count": 7
        },
        {
          "output_type": "display_data",
          "data": {
            "image/png": "[encoded data removed]",
            "text/plain": [
              "<Figure size 432x288 with 1 Axes>"
            ]
          },
          "metadata": {
            "needs_background": "light"
          }
        }
      ]
    },
    {
      "cell_type": "code",
      "metadata": {
        "id": "FW4oKfXvB9eA"
      },
      "source": [
        "df['class']=np.where(df['class']==2,0,1)"
      ],
      "execution_count": 8,
      "outputs": []
    },
    {
      "cell_type": "code",
      "metadata": {
        "id": "iNq4BIX3CPKK"
      },
      "source": [
        "train,test=train_test_split(df,test_size=0.2)"
      ],
      "execution_count": 9,
      "outputs": []
    },
    {
      "cell_type": "code",
      "metadata": {
        "id": "vC-ios51CfRd"
      },
      "source": [
        "train_stats=train.describe()\n",
        "train_stats.pop('class')\n",
        "train_stats=train_stats.transpose()"
      ],
      "execution_count": 10,
      "outputs": []
    },
    {
      "cell_type": "code",
      "metadata": {
        "id": "RZj4s90jDHXh"
      },
      "source": [
        "train_y=train.pop('class')\n",
        "test_y=test.pop('class')"
      ],
      "execution_count": 11,
      "outputs": []
    },
    {
      "cell_type": "code",
      "metadata": {
        "id": "SPO-g9ccDWd2"
      },
      "source": [
        "def normalize(x):\n",
        "  return(x-train_stats['mean'])/train_stats['std']"
      ],
      "execution_count": 12,
      "outputs": []
    },
    {
      "cell_type": "code",
      "metadata": {
        "id": "ugH8hWf5Di_n"
      },
      "source": [
        "norm_train_x=normalize(train)\n",
        "norm_test_x=normalize(test)"
      ],
      "execution_count": 13,
      "outputs": []
    },
    {
      "cell_type": "code",
      "metadata": {
        "id": "oljkTQ2BDpM3"
      },
      "source": [
        "train_df=tf.data.Dataset.from_tensor_slices((norm_train_x.values,train_y.values))\n",
        "test_df=tf.data.Dataset.from_tensor_slices((norm_test_x.values,test_y.values))"
      ],
      "execution_count": 14,
      "outputs": []
    },
    {
      "cell_type": "code",
      "metadata": {
        "id": "N0RPIw2rEFgr"
      },
      "source": [
        "batch_size=32\n",
        "train_df=train_df.shuffle(buffer_size=len(train)).batch(batch_size=batch_size)\n",
        "test_df=test_df.batch(batch_size=batch_size)"
      ],
      "execution_count": 15,
      "outputs": []
    },
    {
      "cell_type": "code",
      "metadata": {
        "colab": {
          "base_uri": "https://localhost:8080/"
        },
        "id": "G_H6FP4WEtyw",
        "outputId": "18a44fb2-a088-4c2b-8731-efdc5926485c"
      },
      "source": [
        "a=enumerate(train_df)\n",
        "print(len(list(a)))"
      ],
      "execution_count": 16,
      "outputs": [
        {
          "output_type": "stream",
          "text": [
            "18\n"
          ],
          "name": "stdout"
        }
      ]
    },
    {
      "cell_type": "code",
      "metadata": {
        "id": "UKKZiV9bEyn5"
      },
      "source": [
        "def base_model():\n",
        "  inputs=tf.keras.layers.Input(shape=(len(norm_train_x.columns)))\n",
        "  x=Dense(64,activation='relu')(inputs)\n",
        "  x=Dense(64,activation='relu')(x)\n",
        "  outputs=Dense(1,activation='sigmoid')(x)\n",
        "  model=Model(inputs=inputs,outputs=outputs)\n",
        "  return model"
      ],
      "execution_count": 17,
      "outputs": []
    },
    {
      "cell_type": "code",
      "metadata": {
        "id": "a4XLJ8B1So3u"
      },
      "source": [
        "model=base_model()"
      ],
      "execution_count": 18,
      "outputs": []
    },
    {
      "cell_type": "code",
      "metadata": {
        "id": "nn2TPBxlStDb"
      },
      "source": [
        "optimizer=tf.keras.optimizers.Adam()\n",
        "loss_object=tf.keras.losses.BinaryCrossentropy()"
      ],
      "execution_count": 19,
      "outputs": []
    },
    {
      "cell_type": "code",
      "metadata": {
        "id": "T6fuhkRgTGSu"
      },
      "source": [
        "def plot_confusion_matrix(y_true, y_pred, title='', labels=[0,1]):\n",
        "    cm = confusion_matrix(y_true, y_pred)\n",
        "    fig = plt.figure()\n",
        "    ax = fig.add_subplot(111)\n",
        "    cax = ax.matshow(cm)\n",
        "    plt.title(title)\n",
        "    fig.colorbar(cax)\n",
        "    ax.set_xticklabels([''] + labels)\n",
        "    ax.set_yticklabels([''] + labels)\n",
        "    plt.xlabel('Predicted')\n",
        "    plt.ylabel('True')\n",
        "    fmt = 'd'\n",
        "    thresh = cm.max() / 2.\n",
        "    for i, j in itertools.product(range(cm.shape[0]), range(cm.shape[1])):\n",
        "          plt.text(j, i, format(cm[i, j], fmt),\n",
        "                  horizontalalignment=\"center\",\n",
        "                  color=\"black\" if cm[i, j] > thresh else \"white\")\n",
        "    plt.show()"
      ],
      "execution_count": 20,
      "outputs": []
    },
    {
      "cell_type": "code",
      "metadata": {
        "id": "hxlKGCUmTRju"
      },
      "source": [
        "class F1score(tf.keras.metrics.Metric):\n",
        "  def __init__(self,name='f1score',**kwargs):\n",
        "    super(F1score,self).__init__(name=name,**kwargs)\n",
        "    self.fp=tf.Variable(0,dtype='int32')\n",
        "    self.tn=tf.Variable(0,dtype='int32')\n",
        "    self.fn=tf.Variable(0,dtype='int32')\n",
        "    self.tp=tf.Variable(0,dtype='int32')\n",
        "\n",
        "  def update_state(self,y_true,y_pred,sample_weight=None):\n",
        "    conf_matrix=tf.math.confusion_matrix(y_true,y_pred,num_classes=2)\n",
        "    self.tn.assign_add(conf_matrix[0][0])\n",
        "    self.tp.assign_add(conf_matrix[1][1])\n",
        "    self.fp.assign_add(conf_matrix[0][1])\n",
        "    self.fn.assign_add(conf_matrix[1][0])\n",
        "  \n",
        "  def result(self):\n",
        "    if(self.tp+self.fp==0):\n",
        "      precision=1\n",
        "    else:\n",
        "      precision=self.tp/(self.tp+self.fp)\n",
        "    \n",
        "    if(self.tp+self.fn==0):\n",
        "      recall=1\n",
        "    else:\n",
        "      recall=self.tp/(self.tp+self.fn)\n",
        "    f1_score=2*((precision*recall)/(precision+recall))\n",
        "    return f1_score\n",
        "  def reset_states(self):\n",
        "    self.tp.assign(0)\n",
        "    self.tn.assign(0)\n",
        "    self.fn.assign(0)\n",
        "    self.fp.assign(0)"
      ],
      "execution_count": 21,
      "outputs": []
    },
    {
      "cell_type": "code",
      "metadata": {
        "id": "RXK0xsZ9YRh2"
      },
      "source": [
        "train_f1score_metric = F1score()\n",
        "val_f1score_metric = F1score()\n",
        "\n",
        "train_acc_metric = tf.keras.metrics.BinaryAccuracy()\n",
        "val_acc_metric = tf.keras.metrics.BinaryAccuracy()"
      ],
      "execution_count": 22,
      "outputs": []
    },
    {
      "cell_type": "code",
      "metadata": {
        "id": "bBg3ANYcYuHM"
      },
      "source": [
        "def apply_gradient(loss_object,x,y,optimizer):\n",
        "  with tf.GradientTape() as t:\n",
        "    logits=model(x)\n",
        "    loss=loss_object(y,logits)\n",
        "    gradients=t.gradient(loss,model.trainable_weights)\n",
        "    optimizer.apply_gradients(zip(gradients,model.trainable_weights))\n",
        "    return logits,loss"
      ],
      "execution_count": 23,
      "outputs": []
    },
    {
      "cell_type": "code",
      "metadata": {
        "id": "CKFYWb7MZxTN"
      },
      "source": [
        "def train_per_epoch(train_df,optimizer,loss_object,model,train_acc_metric,train_f1score_metric):\n",
        "  losses=[]\n",
        "  for step,(x_train_batch,y_train_batch) in enumerate(train_df):\n",
        "    logits,loss_value=apply_gradient(loss_object,x_train_batch,y_train_batch,optimizer)\n",
        "    losses.append(loss_value)\n",
        "    logits=tf.round(logits)\n",
        "    logits=tf.cast(logits,dtype='int32')\n",
        "    train_acc_metric.update_state(y_train_batch, logits)\n",
        "    train_f1score_metric.update_state(y_train_batch, logits)\n",
        "  return losses"
      ],
      "execution_count": 24,
      "outputs": []
    },
    {
      "cell_type": "code",
      "metadata": {
        "id": "_GnPWPRAcAyE"
      },
      "source": [
        "def validation():\n",
        "  losses=[]\n",
        "  for x_val,y_val in test_df:\n",
        "    val_logits=model(x_val)\n",
        "    val_loss=loss_object(y_val,val_logits)\n",
        "    losses.append(val_loss)\n",
        "    val_logits=tf.round(val_logits)\n",
        "    val_logits=tf.cast(val_logits,dtype='int32')\n",
        "    val_acc_metric.update_state(y_val,val_logits)\n",
        "    val_f1score_metric.update_state(y_val,val_logits)\n",
        "  return losses\n"
      ],
      "execution_count": 25,
      "outputs": []
    },
    {
      "cell_type": "code",
      "metadata": {
        "colab": {
          "base_uri": "https://localhost:8080/"
        },
        "id": "7Uwka5HndmPl",
        "outputId": "69751459-ad59-4f7f-b5fe-7b919cd9f3ec"
      },
      "source": [
        "epochs=5\n",
        "epochs_val_losses,epochs_train_losses=[],[]\n",
        "for epoch in range(epochs):\n",
        "  print('\\nstart of epoch %d'%(epoch+1))\n",
        "  losses_train=train_per_epoch(train_df,optimizer,loss_object,model,train_acc_metric,train_f1score_metric)\n",
        "  train_acc=train_acc_metric.result()\n",
        "  train_f1=train_f1score_metric.result()\n",
        "  losses_val=validation()\n",
        "  val_acc=val_acc_metric.result()\n",
        "  val_f1=val_f1score_metric.result()\n",
        "  loss_train_mean=np.mean(losses_train)\n",
        "  loss_val_mean=np.mean(losses_val)\n",
        "  epochs_val_losses.append(loss_val_mean)\n",
        "  epochs_train_losses.append(loss_train_mean)\n",
        "  print('\\n Epoch %s: Train loss: %.4f  Validation Loss: %.4f, Train Accuracy: %.4f, Validation Accuracy %.4f, Train F1 Score: %.4f, Validation F1 Score: %.4f' % (epoch+1, float(loss_train_mean), float(loss_val_mean), float(train_acc), float(val_acc), train_f1, val_f1))\n",
        "  train_acc_metric.reset_states()\n",
        "  val_acc_metric.reset_states()\n",
        "  val_f1score_metric.reset_states()\n",
        "  train_f1score_metric.reset_states()"
      ],
      "execution_count": 26,
      "outputs": [
        {
          "output_type": "stream",
          "text": [
            "\n",
            "start of epoch 1\n",
            "\n",
            " Epoch 1: Train loss: 0.5742  Validation Loss: 0.3600, Train Accuracy: 0.7448, Validation Accuracy 0.9812, Train F1 Score: 0.6852, Validation F1 Score: 0.9677\n",
            "\n",
            "start of epoch 2\n",
            "\n",
            " Epoch 2: Train loss: 0.2641  Validation Loss: 0.1691, Train Accuracy: 0.9705, Validation Accuracy 0.9688, Train F1 Score: 0.9572, Validation F1 Score: 0.9451\n",
            "\n",
            "start of epoch 3\n",
            "\n",
            " Epoch 3: Train loss: 0.2011  Validation Loss: 0.0933, Train Accuracy: 0.9219, Validation Accuracy 0.9688, Train F1 Score: 0.9618, Validation F1 Score: 0.9451\n",
            "\n",
            "start of epoch 4\n",
            "\n",
            " Epoch 4: Train loss: 0.0984  Validation Loss: 0.0786, Train Accuracy: 0.9740, Validation Accuracy 0.9625, Train F1 Score: 0.9614, Validation F1 Score: 0.9333\n",
            "\n",
            "start of epoch 5\n",
            "\n",
            " Epoch 5: Train loss: 0.0838  Validation Loss: 0.0710, Train Accuracy: 0.9740, Validation Accuracy 0.9625, Train F1 Score: 0.9614, Validation F1 Score: 0.9333\n"
          ],
          "name": "stdout"
        }
      ]
    },
    {
      "cell_type": "code",
      "metadata": {
        "colab": {
          "base_uri": "https://localhost:8080/",
          "height": 281
        },
        "id": "QZIbJoBHhi8O",
        "outputId": "cfbef90b-d816-4e2c-8082-93c54e9912c2"
      },
      "source": [
        "def plot_metrics(train_metric, val_metric, metric_name, title, ylim=5):\n",
        "    plt.title(title)\n",
        "    plt.ylim(0,ylim)\n",
        "    plt.gca().xaxis.set_major_locator(mticker.MultipleLocator(1))\n",
        "    plt.plot(train_metric,color='blue',label=metric_name)\n",
        "    plt.plot(val_metric,color='green',label='val_' + metric_name)\n",
        "\n",
        "plot_metrics(epochs_train_losses, epochs_val_losses, \"Loss\", \"Loss\", ylim=1.0)"
      ],
      "execution_count": 27,
      "outputs": [
        {
          "output_type": "display_data",
          "data": {
            "image/png": "[encoded data removed]",
            "text/plain": [
              "<Figure size 432x288 with 1 Axes>"
            ]
          },
          "metadata": {
            "needs_background": "light"
          }
        }
      ]
    },
    {
      "cell_type": "code",
      "metadata": {
        "colab": {
          "base_uri": "https://localhost:8080/",
          "height": 289
        },
        "id": "vNMoe1_DiUS9",
        "outputId": "fc66e9d0-36e1-417f-c8a2-6ed3e4b93635"
      },
      "source": [
        "test_outputs = model(norm_test_x.values)\n",
        "plot_confusion_matrix(test_y.values, tf.round(test_outputs), title='Confusion Matrix for Untrained Model')"
      ],
      "execution_count": 28,
      "outputs": [
        {
          "output_type": "display_data",
          "data": {
            "image/png": "[encoded data removed]",
            "text/plain": [
              "<Figure size 432x288 with 2 Axes>"
            ]
          },
          "metadata": {
            "needs_background": "light"
          }
        }
      ]
    }
  ]
}